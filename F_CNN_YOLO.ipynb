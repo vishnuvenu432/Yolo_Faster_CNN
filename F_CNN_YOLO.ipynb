{
  "cells": [
    {
      "cell_type": "code",
      "source": [
        "# FULL PIPELINE — Faster R-CNN vs YOLOv8 (YOLO-format dataset)\n",
        "\n",
        "!pip -q install torchmetrics==1.4.0.post0 pyyaml ultralytics==8.3.30\n",
        "\n",
        "from google.colab import drive\n",
        "drive.mount('/content/drive')\n",
        "\n",
        "\n",
        "from pathlib import Path\n",
        "ROOT = Path(\"/content/drive/MyDrive/LJMU/Data/yolo_dataset\")\n",
        "WEIGHTS_OUT = \"/content/drive/MyDrive/LJMU/fasterrcnn_resnet50_fpn.pt\"\n",
        "PRED_IMG_DIR = Path(\"/content/drive/MyDrive/LJMU/frcnn_preds\")\n",
        "EPOCHS = 10\n",
        "BATCH_SIZE = 4\n",
        "NUM_WORKERS = 2\n",
        "\n",
        "\n",
        "import os, time, glob, yaml, random, pandas as pd\n",
        "import numpy as np\n",
        "from PIL import Image\n",
        "import matplotlib.pyplot as plt\n",
        "import torch, torchvision\n",
        "import torchvision.transforms as T\n",
        "from torch.utils.data import Dataset, DataLoader\n",
        "from torchvision.models.detection.faster_rcnn import FastRCNNPredictor\n",
        "from torchvision.models.detection import FasterRCNN_ResNet50_FPN_Weights\n",
        "from torchmetrics.detection.mean_ap import MeanAveragePrecision\n",
        "\n",
        "DEVICE = torch.device('cuda' if torch.cuda.is_available() else 'cpu')\n",
        "print(\"Device:\", DEVICE)\n",
        "\n",
        "\n",
        "DATA_YAML_PATH = ROOT / \"data.yaml\"\n",
        "assert DATA_YAML_PATH.exists(), f\"data.yaml not found at {DATA_YAML_PATH}\"\n",
        "with open(DATA_YAML_PATH, \"r\") as f:\n",
        "    ycfg = yaml.safe_load(f)\n",
        "\n",
        "names = ycfg.get(\"names\", [])\n",
        "if isinstance(names, dict):\n",
        "    class_names = [names[k] for k in sorted(names.keys(), key=lambda x: int(x))]\n",
        "elif isinstance(names, list):\n",
        "    class_names = [str(n) for n in names]\n",
        "else:\n",
        "    class_names = []\n",
        "num_classes = int(ycfg.get(\"nc\", len(class_names)))\n",
        "if not class_names or len(class_names) != num_classes:\n",
        "    class_names = [str(i) for i in range(num_classes)]\n",
        "\n",
        "\n",
        "train_dir = ROOT / \"train\" / \"images\"\n",
        "val_dir   = (ROOT / \"valid\" / \"images\") if (ROOT / \"valid\" / \"images\").exists() else (ROOT / \"val\" / \"images\")\n",
        "test_dir  = (ROOT / \"test\"  / \"images\") if (ROOT / \"test\"  / \"images\").exists() else None\n",
        "\n",
        "for name, p in {\"train\": train_dir, \"val\": val_dir, \"test\": test_dir}.items():\n",
        "    if p is None: continue\n",
        "    if not p.exists():\n",
        "        raise FileNotFoundError(f\"Split '{name}' path not found: {p}\")\n",
        "\n",
        "print(\"Classes:\", class_names)\n",
        "print(\"Train :\", train_dir)\n",
        "print(\"Val   :\", val_dir)\n",
        "print(\"Test  :\", test_dir)\n",
        "\n",
        "\n",
        "IMG_EXTS = {\".jpg\",\".jpeg\",\".png\",\".bmp\",\".tif\",\".tiff\",\".webp\"}\n",
        "\n",
        "def labels_dir_for(images_dir: Path) -> Path:\n",
        "    return images_dir.parent / \"labels\"\n",
        "\n",
        "class YoloDetDataset(Dataset):\n",
        "    def __init__(self, images_dir: Path, transforms=None):\n",
        "        self.images_dir = Path(images_dir)\n",
        "        self.labels_dir = labels_dir_for(self.images_dir)\n",
        "        self.paths = sorted([p for p in self.images_dir.glob(\"*\") if p.suffix.lower() in IMG_EXTS])\n",
        "        if not self.paths:\n",
        "            raise FileNotFoundError(f\"No images in {self.images_dir}\")\n",
        "        self.transforms = transforms or T.ToTensor()\n",
        "\n",
        "    def __len__(self):\n",
        "        return len(self.paths)\n",
        "\n",
        "    def __getitem__(self, idx):\n",
        "        p = self.paths[idx]\n",
        "        img = Image.open(p).convert(\"RGB\")\n",
        "        W, H = img.size\n",
        "\n",
        "        # YOLO .txt: cls x y w h (relative)\n",
        "        lab = self.labels_dir / (p.stem + \".txt\")\n",
        "        boxes_list, labels_list = [], []\n",
        "        if lab.exists():\n",
        "            with open(lab, \"r\") as f:\n",
        "                for line in f:\n",
        "                    parts = line.strip().split()\n",
        "                    if len(parts) < 5:\n",
        "                        continue\n",
        "                    cls, xc, yc, w, h = map(float, parts[:5])\n",
        "                    cls = int(cls)\n",
        "                    xc, yc, w, h = xc*W, yc*H, w*W, h*H\n",
        "                    x1, y1 = xc - w/2, yc - h/2\n",
        "                    x2, y2 = xc + w/2, yc + h/2\n",
        "                    x1, y1 = max(0, x1), max(0, y1)\n",
        "                    x2, y2 = min(W-1, x2), min(H-1, y2)\n",
        "                    if x2 > x1 and y2 > y1:\n",
        "                        boxes_list.append([x1, y1, x2, y2])\n",
        "                        labels_list.append(cls + 1)\n",
        "\n",
        "\n",
        "        if len(boxes_list) == 0:\n",
        "            boxes  = torch.zeros((0, 4), dtype=torch.float32)\n",
        "            labels = torch.zeros((0,),   dtype=torch.int64)\n",
        "        else:\n",
        "            boxes  = torch.as_tensor(boxes_list,  dtype=torch.float32).reshape(-1, 4)\n",
        "            labels = torch.as_tensor(labels_list, dtype=torch.int64)\n",
        "\n",
        "        area = (boxes[:, 2] - boxes[:, 0]).clamp(min=0) * (boxes[:, 3] - boxes[:, 1]).clamp(min=0)\n",
        "        target = {\n",
        "            \"boxes\":   boxes,\n",
        "            \"labels\":  labels,\n",
        "            \"image_id\": torch.tensor([idx]),\n",
        "            \"area\":    area,\n",
        "            \"iscrowd\": torch.zeros((labels.shape[0],), dtype=torch.int64),\n",
        "        }\n",
        "\n",
        "        img = self.transforms(img)\n",
        "        return img, target\n",
        "\n",
        "def collate_fn(batch):\n",
        "    imgs, tgts = zip(*batch)\n",
        "    return list(imgs), list(tgts)\n",
        "\n",
        "train_ds = YoloDetDataset(train_dir)\n",
        "val_ds   = YoloDetDataset(val_dir)\n",
        "train_loader = DataLoader(train_ds, batch_size=BATCH_SIZE, shuffle=True,  num_workers=NUM_WORKERS, collate_fn=collate_fn)\n",
        "val_loader   = DataLoader(val_ds,   batch_size=BATCH_SIZE, shuffle=False, num_workers=NUM_WORKERS, collate_fn=collate_fn)\n",
        "\n",
        "print(f\"Dataset sizes -> train: {len(train_ds)} | val: {len(val_ds)}\")\n",
        "\n",
        "\n",
        "weights = FasterRCNN_ResNet50_FPN_Weights.DEFAULT\n",
        "model = torchvision.models.detection.fasterrcnn_resnet50_fpn(weights=weights)\n",
        "in_feat = model.roi_heads.box_predictor.cls_score.in_features\n",
        "model.roi_heads.box_predictor = FastRCNNPredictor(in_feat, num_classes + 1)\n",
        "model.to(DEVICE)\n",
        "\n",
        "optimizer = torch.optim.SGD([p for p in model.parameters() if p.requires_grad],\n",
        "                            lr=0.005, momentum=0.9, weight_decay=1e-4)\n",
        "scheduler = torch.optim.lr_scheduler.StepLR(optimizer, step_size=5, gamma=0.1)\n",
        "\n",
        "\n",
        "hist_loss, hist_mAP, hist_mAP50 = [], [], []\n",
        "for e in range(1, EPOCHS+1):\n",
        "    model.train()\n",
        "    t0 = time.time()\n",
        "    running = 0.0\n",
        "\n",
        "    for imgs, tgts in train_loader:\n",
        "        imgs = [i.to(DEVICE) for i in imgs]\n",
        "        tgts = [{k: v.to(DEVICE) for k, v in t.items()} for t in tgts]\n",
        "\n",
        "        loss_dict = model(imgs, tgts)\n",
        "        loss = sum(loss_dict.values())\n",
        "\n",
        "        optimizer.zero_grad()\n",
        "        loss.backward()\n",
        "        optimizer.step()\n",
        "\n",
        "        running += loss.item()\n",
        "\n",
        "    scheduler.step()\n",
        "    avg_loss = running / max(1, len(train_loader))\n",
        "\n",
        "\n",
        "    model.eval()\n",
        "    metric = MeanAveragePrecision(iou_type=\"bbox\")\n",
        "    with torch.no_grad():\n",
        "        for imgs, tgts in val_loader:\n",
        "            imgs = [i.to(DEVICE) for i in imgs]\n",
        "            preds = model(imgs)\n",
        "            preds_cpu = [{\"boxes\":p[\"boxes\"].cpu(), \"scores\":p[\"scores\"].cpu(), \"labels\":p[\"labels\"].cpu()} for p in preds]\n",
        "            tgts_cpu  = [{\"boxes\":t[\"boxes\"].cpu(), \"labels\":t[\"labels\"].cpu()} for t in tgts]\n",
        "            metric.update(preds_cpu, tgts_cpu)\n",
        "    res   = metric.compute()\n",
        "    mAP   = float(res[\"map\"])\n",
        "    mAP50 = float(res[\"map_50\"])\n",
        "\n",
        "    hist_loss.append(avg_loss); hist_mAP.append(mAP); hist_mAP50.append(mAP50)\n",
        "    print(f\"Epoch {e:02d}/{EPOCHS} | loss {avg_loss:.4f} | mAP {mAP:.3f} | mAP@0.50 {mAP50:.3f} | {time.time()-t0:.1f}s\")\n",
        "\n",
        "\n",
        "torch.save(model.state_dict(), WEIGHTS_OUT)\n",
        "print(\"Saved weights to:\", WEIGHTS_OUT)\n",
        "\n",
        "\n",
        "if test_dir and Path(test_dir).exists():\n",
        "    test_ds = YoloDetDataset(test_dir)\n",
        "else:\n",
        "    print(\"No test split detected; evaluating on VAL instead.\")\n",
        "    test_ds = val_ds\n",
        "test_loader = DataLoader(test_ds, batch_size=BATCH_SIZE, shuffle=False, num_workers=NUM_WORKERS, collate_fn=collate_fn)\n",
        "\n",
        "model.eval()\n",
        "metric = MeanAveragePrecision(iou_type=\"bbox\", class_metrics=True)\n",
        "with torch.no_grad():\n",
        "    for imgs, tgts in test_loader:\n",
        "        imgs = [i.to(DEVICE) for i in imgs]\n",
        "        preds = model(imgs)\n",
        "        preds_cpu = [{\"boxes\":p[\"boxes\"].cpu(), \"scores\":p[\"scores\"].cpu(), \"labels\":p[\"labels\"].cpu()} for p in preds]\n",
        "        tgts_cpu  = [{\"boxes\":t[\"boxes\"].cpu(), \"labels\":t[\"labels\"].cpu()} for t in tgts]\n",
        "        metric.update(preds_cpu, tgts_cpu)\n",
        "res_test = metric.compute()\n",
        "frcnn_map    = float(res_test[\"map\"])\n",
        "frcnn_map50  = float(res_test[\"map_50\"])\n",
        "print(f\"[FRCNN] Test/Val => mAP@0.5:0.95 = {frcnn_map:.3f} | mAP@0.5 = {frcnn_map50:.3f}\")\n",
        "\n",
        "rows = []\n",
        "mpc   = res_test.get(\"map_per_class\", None)\n",
        "mpc50 = res_test.get(\"map_50_per_class\", None)\n",
        "if mpc is not None and mpc50 is not None:\n",
        "    mpc   = mpc.tolist()\n",
        "    mpc50 = mpc50.tolist()\n",
        "    for i, ap in enumerate(mpc):\n",
        "        cname = class_names[i] if i < len(class_names) else str(i)\n",
        "        rows.append({\"class\": cname, \"AP@0.5:0.95\": ap, \"AP@0.5\": mpc50[i]})\n",
        "    df_ap = pd.DataFrame(rows)\n",
        "    csv_path = \"/content/drive/MyDrive/LJMU/frcnn_per_class_ap.csv\"\n",
        "    df_ap.to_csv(csv_path, index=False)\n",
        "    print(\"Saved per-class AP CSV:\", csv_path)\n",
        "    display(df_ap.head())\n",
        "\n",
        "\n",
        "import cv2\n",
        "PRED_IMG_DIR.mkdir(parents=True, exist_ok=True)\n",
        "CONF = 0.5\n",
        "\n",
        "def draw_boxes_on_img_path(img_path, pred):\n",
        "    img = Image.open(img_path).convert(\"RGB\")\n",
        "    im  = np.array(img).copy()\n",
        "    boxes  = pred[\"boxes\"].cpu().numpy()\n",
        "    scores = pred[\"scores\"].cpu().numpy()\n",
        "    labels = pred[\"labels\"].cpu().numpy()\n",
        "    for b, s, l in zip(boxes, scores, labels):\n",
        "        if s < CONF: continue\n",
        "        x1,y1,x2,y2 = map(int, b)\n",
        "        cv2.rectangle(im, (x1,y1), (x2,y2), (0,255,0), 2)\n",
        "        name = class_names[l-1] if 1 <= l <= len(class_names) else str(l)\n",
        "        cv2.putText(im, f\"{name}:{s:.2f}\", (x1, max(0,y1-5)), cv2.FONT_HERSHEY_SIMPLEX, 0.5, (0,255,0), 1)\n",
        "    return Image.fromarray(im)\n",
        "\n",
        "model.eval()\n",
        "sample_idx = list(range(min(5, len(test_ds))))\n",
        "for i in sample_idx:\n",
        "    img_t, _ = test_ds[i]\n",
        "    img_path = test_ds.paths[i]\n",
        "    with torch.no_grad():\n",
        "        pred = model([img_t.to(DEVICE)])[0]\n",
        "    out_im = draw_boxes_on_img_path(img_path, pred)\n",
        "    out_name = f\"pred_{i}_{Path(img_path).name}\"\n",
        "    out_im.save(PRED_IMG_DIR / out_name)\n",
        "print(\"Saved sample predictions to:\", PRED_IMG_DIR)\n",
        "\n",
        "\n",
        "from ultralytics import YOLO\n",
        "yolo = YOLO(\"yolov8s.pt\")\n",
        "yolo.train(\n",
        "    data=str(DATA_YAML_PATH),\n",
        "    epochs=25, imgsz=640, batch=BATCH_SIZE,\n",
        "    device=0 if torch.cuda.is_available() else \"cpu\",\n",
        "    verbose=True\n",
        ")\n",
        "\n",
        "split = \"test\" if (test_dir and Path(test_dir).exists()) else \"val\"\n",
        "y_eval = yolo.val(data=str(DATA_YAML_PATH), split=split, imgsz=640,\n",
        "                  device=0 if torch.cuda.is_available() else \"cpu\")\n",
        "\n",
        "yolo_map50 = float(y_eval.results_dict.get(\"metrics/mAP50(B)\", 0.0))\n",
        "yolo_map   = float(y_eval.results_dict.get(\"metrics/mAP50-95(B)\", 0.0))\n",
        "print(f\"[YOLOv8s] {split} => mAP@0.5:0.95 = {yolo_map:.3f} | mAP@0.5 = {yolo_map50:.3f}\")\n",
        "\n",
        "\n",
        "labels = [\"mAP@0.5\", \"mAP@0.5:0.95\"]\n",
        "frcnn_vals = [frcnn_map50, frcnn_map]\n",
        "yolo_vals  = [yolo_map50,   yolo_map]\n",
        "\n",
        "x = np.arange(len(labels)); w = 0.35\n",
        "plt.figure(figsize=(6,4))\n",
        "plt.bar(x - w/2, frcnn_vals, width=w, label=\"Faster R-CNN\")\n",
        "plt.bar(x + w/2, yolo_vals,  width=w, label=\"YOLOv8s\")\n",
        "plt.xticks(x, labels); plt.ylabel(\"Score\"); plt.title(\"Model Comparison\"); plt.legend(); plt.grid(axis='y', alpha=0.3)\n",
        "plt.show()\n"
      ],
      "metadata": {
        "colab": {
          "base_uri": "https://localhost:8080/",
          "height": 1000
        },
        "id": "97X2ltRNRkcs",
        "outputId": "98b628c1-c6f6-41ae-bb30-5fb3b12caadc"
      },
      "execution_count": 1,
      "outputs": [
        {
          "output_type": "stream",
          "name": "stdout",
          "text": [
            "\u001b[?25l   \u001b[90m━━━━━━━━━━━━━━━━━━━━━━━━━━━━━━━━━━━━━━━━\u001b[0m \u001b[32m0.0/868.8 kB\u001b[0m \u001b[31m?\u001b[0m eta \u001b[36m-:--:--\u001b[0m\r\u001b[2K   \u001b[90m━━━━━━━━━━━━━━━━━━━━━━━━━━━━━━━━━━━━━━━━\u001b[0m \u001b[32m868.8/868.8 kB\u001b[0m \u001b[31m47.5 MB/s\u001b[0m eta \u001b[36m0:00:00\u001b[0m\n",
            "\u001b[?25h\u001b[?25l   \u001b[90m━━━━━━━━━━━━━━━━━━━━━━━━━━━━━━━━━━━━━━━━\u001b[0m \u001b[32m0.0/885.9 kB\u001b[0m \u001b[31m?\u001b[0m eta \u001b[36m-:--:--\u001b[0m\r\u001b[2K   \u001b[90m━━━━━━━━━━━━━━━━━━━━━━━━━━━━━━━━━━━━━━━━\u001b[0m \u001b[32m885.9/885.9 kB\u001b[0m \u001b[31m49.3 MB/s\u001b[0m eta \u001b[36m0:00:00\u001b[0m\n",
            "\u001b[?25hMounted at /content/drive\n",
            "Device: cuda\n",
            "Classes: ['boat', 'camping car', 'car', 'motorcycle', 'other', 'pickup', 'plane', 'tractor', 'truck', 'van']\n",
            "Train : /content/drive/MyDrive/LJMU/Data/yolo_dataset/train/images\n",
            "Val   : /content/drive/MyDrive/LJMU/Data/yolo_dataset/valid/images\n",
            "Test  : /content/drive/MyDrive/LJMU/Data/yolo_dataset/test/images\n",
            "Dataset sizes -> train: 1855 | val: 99\n",
            "Downloading: \"https://download.pytorch.org/models/fasterrcnn_resnet50_fpn_coco-258fb6c6.pth\" to /root/.cache/torch/hub/checkpoints/fasterrcnn_resnet50_fpn_coco-258fb6c6.pth\n"
          ]
        },
        {
          "output_type": "stream",
          "name": "stderr",
          "text": [
            "100%|██████████| 160M/160M [00:00<00:00, 241MB/s]\n"
          ]
        },
        {
          "output_type": "stream",
          "name": "stdout",
          "text": [
            "Epoch 01/10 | loss 0.3257 | mAP 0.124 | mAP@0.50 0.228 | 926.1s\n",
            "Epoch 02/10 | loss 0.2598 | mAP 0.180 | mAP@0.50 0.313 | 382.0s\n",
            "Epoch 03/10 | loss 0.2333 | mAP 0.264 | mAP@0.50 0.423 | 381.0s\n",
            "Epoch 04/10 | loss 0.2122 | mAP 0.277 | mAP@0.50 0.445 | 380.6s\n",
            "Epoch 05/10 | loss 0.1918 | mAP 0.256 | mAP@0.50 0.400 | 381.4s\n",
            "Epoch 06/10 | loss 0.1565 | mAP 0.316 | mAP@0.50 0.467 | 381.4s\n",
            "Epoch 07/10 | loss 0.1456 | mAP 0.293 | mAP@0.50 0.430 | 381.3s\n",
            "Epoch 08/10 | loss 0.1396 | mAP 0.325 | mAP@0.50 0.475 | 382.0s\n",
            "Epoch 09/10 | loss 0.1347 | mAP 0.316 | mAP@0.50 0.464 | 381.3s\n",
            "Epoch 10/10 | loss 0.1300 | mAP 0.336 | mAP@0.50 0.481 | 381.4s\n",
            "Saved weights to: /content/drive/MyDrive/LJMU/fasterrcnn_resnet50_fpn.pt\n",
            "[FRCNN] Test/Val => mAP@0.5:0.95 = 0.344 | mAP@0.5 = 0.487\n",
            "Saved sample predictions to: /content/drive/MyDrive/LJMU/frcnn_preds\n",
            "Creating new Ultralytics Settings v0.0.6 file ✅ \n",
            "View Ultralytics Settings with 'yolo settings' or at '/root/.config/Ultralytics/settings.json'\n",
            "Update Settings with 'yolo settings key=value', i.e. 'yolo settings runs_dir=path/to/dir'. For help see https://docs.ultralytics.com/quickstart/#ultralytics-settings.\n",
            "Downloading https://github.com/ultralytics/assets/releases/download/v8.3.0/yolov8s.pt to 'yolov8s.pt'...\n"
          ]
        },
        {
          "output_type": "stream",
          "name": "stderr",
          "text": [
            "100%|██████████| 21.5M/21.5M [00:00<00:00, 43.6MB/s]"
          ]
        },
        {
          "output_type": "stream",
          "name": "stdout",
          "text": [
            "New https://pypi.org/project/ultralytics/8.3.183 available 😃 Update with 'pip install -U ultralytics'\n",
            "Ultralytics 8.3.30 🚀 Python-3.12.11 torch-2.8.0+cu126 CUDA:0 (Tesla T4, 15095MiB)\n",
            "\u001b[34m\u001b[1mengine/trainer: \u001b[0mtask=detect, mode=train, model=yolov8s.pt, data=/content/drive/MyDrive/LJMU/Data/yolo_dataset/data.yaml, epochs=25, time=None, patience=100, batch=4, imgsz=640, save=True, save_period=-1, cache=False, device=0, workers=8, project=None, name=train, exist_ok=False, pretrained=True, optimizer=auto, verbose=True, seed=0, deterministic=True, single_cls=False, rect=False, cos_lr=False, close_mosaic=10, resume=False, amp=True, fraction=1.0, profile=False, freeze=None, multi_scale=False, overlap_mask=True, mask_ratio=4, dropout=0.0, val=True, split=val, save_json=False, save_hybrid=False, conf=None, iou=0.7, max_det=300, half=False, dnn=False, plots=True, source=None, vid_stride=1, stream_buffer=False, visualize=False, augment=False, agnostic_nms=False, classes=None, retina_masks=False, embed=None, show=False, save_frames=False, save_txt=False, save_conf=False, save_crop=False, show_labels=True, show_conf=True, show_boxes=True, line_width=None, format=torchscript, keras=False, optimize=False, int8=False, dynamic=False, simplify=True, opset=None, workspace=4, nms=False, lr0=0.01, lrf=0.01, momentum=0.937, weight_decay=0.0005, warmup_epochs=3.0, warmup_momentum=0.8, warmup_bias_lr=0.1, box=7.5, cls=0.5, dfl=1.5, pose=12.0, kobj=1.0, label_smoothing=0.0, nbs=64, hsv_h=0.015, hsv_s=0.7, hsv_v=0.4, degrees=0.0, translate=0.1, scale=0.5, shear=0.0, perspective=0.0, flipud=0.0, fliplr=0.5, bgr=0.0, mosaic=1.0, mixup=0.0, copy_paste=0.0, copy_paste_mode=flip, auto_augment=randaugment, erasing=0.4, crop_fraction=1.0, cfg=None, tracker=botsort.yaml, save_dir=runs/detect/train\n"
          ]
        },
        {
          "output_type": "stream",
          "name": "stderr",
          "text": [
            "\n"
          ]
        },
        {
          "output_type": "stream",
          "name": "stdout",
          "text": [
            "Downloading https://ultralytics.com/assets/Arial.ttf to '/root/.config/Ultralytics/Arial.ttf'...\n"
          ]
        },
        {
          "output_type": "stream",
          "name": "stderr",
          "text": [
            "100%|██████████| 755k/755k [00:00<00:00, 100MB/s]\n"
          ]
        },
        {
          "output_type": "stream",
          "name": "stdout",
          "text": [
            "Overriding model.yaml nc=80 with nc=10\n",
            "\n",
            "                   from  n    params  module                                       arguments                     \n",
            "  0                  -1  1       928  ultralytics.nn.modules.conv.Conv             [3, 32, 3, 2]                 \n",
            "  1                  -1  1     18560  ultralytics.nn.modules.conv.Conv             [32, 64, 3, 2]                \n",
            "  2                  -1  1     29056  ultralytics.nn.modules.block.C2f             [64, 64, 1, True]             \n",
            "  3                  -1  1     73984  ultralytics.nn.modules.conv.Conv             [64, 128, 3, 2]               \n",
            "  4                  -1  2    197632  ultralytics.nn.modules.block.C2f             [128, 128, 2, True]           \n",
            "  5                  -1  1    295424  ultralytics.nn.modules.conv.Conv             [128, 256, 3, 2]              \n",
            "  6                  -1  2    788480  ultralytics.nn.modules.block.C2f             [256, 256, 2, True]           \n",
            "  7                  -1  1   1180672  ultralytics.nn.modules.conv.Conv             [256, 512, 3, 2]              \n",
            "  8                  -1  1   1838080  ultralytics.nn.modules.block.C2f             [512, 512, 1, True]           \n",
            "  9                  -1  1    656896  ultralytics.nn.modules.block.SPPF            [512, 512, 5]                 \n",
            " 10                  -1  1         0  torch.nn.modules.upsampling.Upsample         [None, 2, 'nearest']          \n",
            " 11             [-1, 6]  1         0  ultralytics.nn.modules.conv.Concat           [1]                           \n",
            " 12                  -1  1    591360  ultralytics.nn.modules.block.C2f             [768, 256, 1]                 \n",
            " 13                  -1  1         0  torch.nn.modules.upsampling.Upsample         [None, 2, 'nearest']          \n",
            " 14             [-1, 4]  1         0  ultralytics.nn.modules.conv.Concat           [1]                           \n",
            " 15                  -1  1    148224  ultralytics.nn.modules.block.C2f             [384, 128, 1]                 \n",
            " 16                  -1  1    147712  ultralytics.nn.modules.conv.Conv             [128, 128, 3, 2]              \n",
            " 17            [-1, 12]  1         0  ultralytics.nn.modules.conv.Concat           [1]                           \n",
            " 18                  -1  1    493056  ultralytics.nn.modules.block.C2f             [384, 256, 1]                 \n",
            " 19                  -1  1    590336  ultralytics.nn.modules.conv.Conv             [256, 256, 3, 2]              \n",
            " 20             [-1, 9]  1         0  ultralytics.nn.modules.conv.Concat           [1]                           \n",
            " 21                  -1  1   1969152  ultralytics.nn.modules.block.C2f             [768, 512, 1]                 \n",
            " 22        [15, 18, 21]  1   2119918  ultralytics.nn.modules.head.Detect           [10, [128, 256, 512]]         \n",
            "Model summary: 225 layers, 11,139,470 parameters, 11,139,454 gradients, 28.7 GFLOPs\n",
            "\n",
            "Transferred 349/355 items from pretrained weights\n",
            "\u001b[34m\u001b[1mTensorBoard: \u001b[0mStart with 'tensorboard --logdir runs/detect/train', view at http://localhost:6006/\n",
            "Freezing layer 'model.22.dfl.conv.weight'\n",
            "\u001b[34m\u001b[1mAMP: \u001b[0mrunning Automatic Mixed Precision (AMP) checks...\n",
            "Downloading https://github.com/ultralytics/assets/releases/download/v8.3.0/yolo11n.pt to 'yolo11n.pt'...\n"
          ]
        },
        {
          "output_type": "stream",
          "name": "stderr",
          "text": [
            "100%|██████████| 5.35M/5.35M [00:00<00:00, 410MB/s]\n",
            "/usr/local/lib/python3.12/dist-packages/ultralytics/utils/torch_utils.py:262: UserWarning: Deterministic behavior was enabled with either `torch.use_deterministic_algorithms(True)` or `at::Context::setDeterministicAlgorithms(true)`, but this operation is not deterministic because it uses CuBLAS and you have CUDA >= 10.2. To enable deterministic behavior in this case, you must set an environment variable before running your PyTorch application: CUBLAS_WORKSPACE_CONFIG=:4096:8 or CUBLAS_WORKSPACE_CONFIG=:16:8. For more information, go to https://docs.nvidia.com/cuda/cublas/index.html#results-reproducibility (Triggered internally at /pytorch/aten/src/ATen/Context.cpp:233.)\n",
            "  fusedconv.weight.copy_(torch.mm(w_bn, w_conv).view(fusedconv.weight.shape))\n",
            "/usr/local/lib/python3.12/dist-packages/ultralytics/utils/torch_utils.py:267: UserWarning: Deterministic behavior was enabled with either `torch.use_deterministic_algorithms(True)` or `at::Context::setDeterministicAlgorithms(true)`, but this operation is not deterministic because it uses CuBLAS and you have CUDA >= 10.2. To enable deterministic behavior in this case, you must set an environment variable before running your PyTorch application: CUBLAS_WORKSPACE_CONFIG=:4096:8 or CUBLAS_WORKSPACE_CONFIG=:16:8. For more information, go to https://docs.nvidia.com/cuda/cublas/index.html#results-reproducibility (Triggered internally at /pytorch/aten/src/ATen/Context.cpp:233.)\n",
            "  fusedconv.bias.copy_(torch.mm(w_bn, b_conv.reshape(-1, 1)).reshape(-1) + b_bn)\n",
            "/usr/local/lib/python3.12/dist-packages/ultralytics/nn/modules/block.py:916: UserWarning: Deterministic behavior was enabled with either `torch.use_deterministic_algorithms(True)` or `at::Context::setDeterministicAlgorithms(true)`, but this operation is not deterministic because it uses CuBLAS and you have CUDA >= 10.2. To enable deterministic behavior in this case, you must set an environment variable before running your PyTorch application: CUBLAS_WORKSPACE_CONFIG=:4096:8 or CUBLAS_WORKSPACE_CONFIG=:16:8. For more information, go to https://docs.nvidia.com/cuda/cublas/index.html#results-reproducibility (Triggered internally at /pytorch/aten/src/ATen/Context.cpp:233.)\n",
            "  attn = (q.transpose(-2, -1) @ k) * self.scale\n",
            "/usr/local/lib/python3.12/dist-packages/ultralytics/nn/modules/block.py:918: UserWarning: Deterministic behavior was enabled with either `torch.use_deterministic_algorithms(True)` or `at::Context::setDeterministicAlgorithms(true)`, but this operation is not deterministic because it uses CuBLAS and you have CUDA >= 10.2. To enable deterministic behavior in this case, you must set an environment variable before running your PyTorch application: CUBLAS_WORKSPACE_CONFIG=:4096:8 or CUBLAS_WORKSPACE_CONFIG=:16:8. For more information, go to https://docs.nvidia.com/cuda/cublas/index.html#results-reproducibility (Triggered internally at /pytorch/aten/src/ATen/Context.cpp:233.)\n",
            "  x = (v @ attn.transpose(-2, -1)).view(B, C, H, W) + self.pe(v.reshape(B, C, H, W))\n"
          ]
        },
        {
          "output_type": "stream",
          "name": "stdout",
          "text": [
            "\u001b[34m\u001b[1mAMP: \u001b[0mchecks passed ✅\n"
          ]
        },
        {
          "output_type": "stream",
          "name": "stderr",
          "text": [
            "\u001b[34m\u001b[1mtrain: \u001b[0mScanning /content/drive/MyDrive/LJMU/Data/yolo_dataset/train/labels.cache... 1855 images, 0 backgrounds, 0 corrupt: 100%|██████████| 1855/1855 [00:00<?, ?it/s]"
          ]
        },
        {
          "output_type": "stream",
          "name": "stdout",
          "text": [
            "\u001b[34m\u001b[1mtrain: \u001b[0m/content/drive/MyDrive/LJMU/Data/yolo_dataset/train/images/21268_jpg.rf.634a512bcba0a9c37733155628634c0f.jpg: 1 duplicate labels removed\n"
          ]
        },
        {
          "output_type": "stream",
          "name": "stderr",
          "text": [
            "\n"
          ]
        },
        {
          "output_type": "stream",
          "name": "stdout",
          "text": [
            "\u001b[34m\u001b[1malbumentations: \u001b[0mBlur(p=0.01, blur_limit=(3, 7)), MedianBlur(p=0.01, blur_limit=(3, 7)), ToGray(p=0.01, method='weighted_average', num_output_channels=3), CLAHE(p=0.01, clip_limit=(1.0, 4.0), tile_grid_size=(8, 8))\n"
          ]
        },
        {
          "output_type": "stream",
          "name": "stderr",
          "text": [
            "/usr/local/lib/python3.12/dist-packages/ultralytics/data/augment.py:1850: UserWarning: Argument(s) 'quality_lower' are not valid for transform ImageCompression\n",
            "  A.ImageCompression(quality_lower=75, p=0.0),\n",
            "\u001b[34m\u001b[1mval: \u001b[0mScanning /content/drive/MyDrive/LJMU/Data/yolo_dataset/valid/labels.cache... 99 images, 0 backgrounds, 0 corrupt: 100%|██████████| 99/99 [00:00<?, ?it/s]\n"
          ]
        },
        {
          "output_type": "stream",
          "name": "stdout",
          "text": [
            "Plotting labels to runs/detect/train/labels.jpg... \n",
            "\u001b[34m\u001b[1moptimizer:\u001b[0m 'optimizer=auto' found, ignoring 'lr0=0.01' and 'momentum=0.937' and determining best 'optimizer', 'lr0' and 'momentum' automatically... \n",
            "\u001b[34m\u001b[1moptimizer:\u001b[0m AdamW(lr=0.000714, momentum=0.9) with parameter groups 57 weight(decay=0.0), 64 weight(decay=0.0005), 63 bias(decay=0.0)\n",
            "\u001b[34m\u001b[1mTensorBoard: \u001b[0mmodel graph visualization added ✅\n",
            "Image sizes 640 train, 640 val\n",
            "Using 8 dataloader workers\n",
            "Logging results to \u001b[1mruns/detect/train\u001b[0m\n",
            "Starting training for 25 epochs...\n",
            "\n",
            "      Epoch    GPU_mem   box_loss   cls_loss   dfl_loss  Instances       Size\n"
          ]
        },
        {
          "output_type": "stream",
          "name": "stderr",
          "text": [
            "\r  0%|          | 0/464 [00:00<?, ?it/s]/usr/local/lib/python3.12/dist-packages/ultralytics/utils/loss.py:202: UserWarning: Deterministic behavior was enabled with either `torch.use_deterministic_algorithms(True)` or `at::Context::setDeterministicAlgorithms(true)`, but this operation is not deterministic because it uses CuBLAS and you have CUDA >= 10.2. To enable deterministic behavior in this case, you must set an environment variable before running your PyTorch application: CUBLAS_WORKSPACE_CONFIG=:4096:8 or CUBLAS_WORKSPACE_CONFIG=:16:8. For more information, go to https://docs.nvidia.com/cuda/cublas/index.html#results-reproducibility (Triggered internally at /pytorch/aten/src/ATen/Context.cpp:233.)\n",
            "  pred_dist = pred_dist.view(b, a, 4, c // 4).softmax(3).matmul(self.proj.type(pred_dist.dtype))\n",
            "       1/25      4.77G      1.708      2.231      1.353         24        640: 100%|██████████| 464/464 [00:41<00:00, 11.08it/s]\n",
            "                 Class     Images  Instances      Box(P          R      mAP50  mAP50-95): 100%|██████████| 13/13 [00:01<00:00,  6.87it/s]"
          ]
        },
        {
          "output_type": "stream",
          "name": "stdout",
          "text": [
            "                   all         99        304      0.721      0.217        0.2      0.108\n"
          ]
        },
        {
          "output_type": "stream",
          "name": "stderr",
          "text": [
            "\n"
          ]
        },
        {
          "output_type": "stream",
          "name": "stdout",
          "text": [
            "\n",
            "      Epoch    GPU_mem   box_loss   cls_loss   dfl_loss  Instances       Size\n"
          ]
        },
        {
          "output_type": "stream",
          "name": "stderr",
          "text": [
            "  0%|          | 0/464 [00:00<?, ?it/s]/usr/local/lib/python3.12/dist-packages/ultralytics/utils/loss.py:202: UserWarning: Deterministic behavior was enabled with either `torch.use_deterministic_algorithms(True)` or `at::Context::setDeterministicAlgorithms(true)`, but this operation is not deterministic because it uses CuBLAS and you have CUDA >= 10.2. To enable deterministic behavior in this case, you must set an environment variable before running your PyTorch application: CUBLAS_WORKSPACE_CONFIG=:4096:8 or CUBLAS_WORKSPACE_CONFIG=:16:8. For more information, go to https://docs.nvidia.com/cuda/cublas/index.html#results-reproducibility (Triggered internally at /pytorch/aten/src/ATen/Context.cpp:233.)\n",
            "  pred_dist = pred_dist.view(b, a, 4, c // 4).softmax(3).matmul(self.proj.type(pred_dist.dtype))\n",
            "       2/25      1.67G      1.641      1.362      1.326          5        640: 100%|██████████| 464/464 [00:37<00:00, 12.42it/s]\n",
            "                 Class     Images  Instances      Box(P          R      mAP50  mAP50-95): 100%|██████████| 13/13 [00:00<00:00, 14.38it/s]"
          ]
        },
        {
          "output_type": "stream",
          "name": "stdout",
          "text": [
            "                   all         99        304      0.379      0.233      0.235      0.124\n"
          ]
        },
        {
          "output_type": "stream",
          "name": "stderr",
          "text": [
            "\n"
          ]
        },
        {
          "output_type": "stream",
          "name": "stdout",
          "text": [
            "\n",
            "      Epoch    GPU_mem   box_loss   cls_loss   dfl_loss  Instances       Size\n"
          ]
        },
        {
          "output_type": "stream",
          "name": "stderr",
          "text": [
            "  0%|          | 0/464 [00:00<?, ?it/s]/usr/local/lib/python3.12/dist-packages/ultralytics/utils/loss.py:202: UserWarning: Deterministic behavior was enabled with either `torch.use_deterministic_algorithms(True)` or `at::Context::setDeterministicAlgorithms(true)`, but this operation is not deterministic because it uses CuBLAS and you have CUDA >= 10.2. To enable deterministic behavior in this case, you must set an environment variable before running your PyTorch application: CUBLAS_WORKSPACE_CONFIG=:4096:8 or CUBLAS_WORKSPACE_CONFIG=:16:8. For more information, go to https://docs.nvidia.com/cuda/cublas/index.html#results-reproducibility (Triggered internally at /pytorch/aten/src/ATen/Context.cpp:233.)\n",
            "  pred_dist = pred_dist.view(b, a, 4, c // 4).softmax(3).matmul(self.proj.type(pred_dist.dtype))\n",
            "       3/25      1.69G      1.642      1.231      1.322          9        640: 100%|██████████| 464/464 [00:37<00:00, 12.44it/s]\n",
            "                 Class     Images  Instances      Box(P          R      mAP50  mAP50-95): 100%|██████████| 13/13 [00:00<00:00, 14.59it/s]"
          ]
        },
        {
          "output_type": "stream",
          "name": "stdout",
          "text": [
            "                   all         99        304      0.454      0.261      0.316      0.194\n"
          ]
        },
        {
          "output_type": "stream",
          "name": "stderr",
          "text": [
            "\n"
          ]
        },
        {
          "output_type": "stream",
          "name": "stdout",
          "text": [
            "\n",
            "      Epoch    GPU_mem   box_loss   cls_loss   dfl_loss  Instances       Size\n"
          ]
        },
        {
          "output_type": "stream",
          "name": "stderr",
          "text": [
            "  0%|          | 0/464 [00:00<?, ?it/s]/usr/local/lib/python3.12/dist-packages/ultralytics/utils/loss.py:202: UserWarning: Deterministic behavior was enabled with either `torch.use_deterministic_algorithms(True)` or `at::Context::setDeterministicAlgorithms(true)`, but this operation is not deterministic because it uses CuBLAS and you have CUDA >= 10.2. To enable deterministic behavior in this case, you must set an environment variable before running your PyTorch application: CUBLAS_WORKSPACE_CONFIG=:4096:8 or CUBLAS_WORKSPACE_CONFIG=:16:8. For more information, go to https://docs.nvidia.com/cuda/cublas/index.html#results-reproducibility (Triggered internally at /pytorch/aten/src/ATen/Context.cpp:233.)\n",
            "  pred_dist = pred_dist.view(b, a, 4, c // 4).softmax(3).matmul(self.proj.type(pred_dist.dtype))\n",
            "       4/25      1.69G      1.602      1.225      1.299         14        640: 100%|██████████| 464/464 [00:36<00:00, 12.57it/s]\n",
            "                 Class     Images  Instances      Box(P          R      mAP50  mAP50-95): 100%|██████████| 13/13 [00:00<00:00, 14.71it/s]"
          ]
        },
        {
          "output_type": "stream",
          "name": "stdout",
          "text": [
            "                   all         99        304      0.384      0.402      0.278      0.143\n"
          ]
        },
        {
          "output_type": "stream",
          "name": "stderr",
          "text": [
            "\n"
          ]
        },
        {
          "output_type": "stream",
          "name": "stdout",
          "text": [
            "\n",
            "      Epoch    GPU_mem   box_loss   cls_loss   dfl_loss  Instances       Size\n"
          ]
        },
        {
          "output_type": "stream",
          "name": "stderr",
          "text": [
            "  0%|          | 0/464 [00:00<?, ?it/s]/usr/local/lib/python3.12/dist-packages/ultralytics/utils/loss.py:202: UserWarning: Deterministic behavior was enabled with either `torch.use_deterministic_algorithms(True)` or `at::Context::setDeterministicAlgorithms(true)`, but this operation is not deterministic because it uses CuBLAS and you have CUDA >= 10.2. To enable deterministic behavior in this case, you must set an environment variable before running your PyTorch application: CUBLAS_WORKSPACE_CONFIG=:4096:8 or CUBLAS_WORKSPACE_CONFIG=:16:8. For more information, go to https://docs.nvidia.com/cuda/cublas/index.html#results-reproducibility (Triggered internally at /pytorch/aten/src/ATen/Context.cpp:233.)\n",
            "  pred_dist = pred_dist.view(b, a, 4, c // 4).softmax(3).matmul(self.proj.type(pred_dist.dtype))\n",
            "       5/25      1.65G       1.59      1.148      1.302          7        640: 100%|██████████| 464/464 [00:37<00:00, 12.49it/s]\n",
            "                 Class     Images  Instances      Box(P          R      mAP50  mAP50-95): 100%|██████████| 13/13 [00:00<00:00, 14.49it/s]"
          ]
        },
        {
          "output_type": "stream",
          "name": "stdout",
          "text": [
            "                   all         99        304      0.403      0.283      0.308      0.164\n"
          ]
        },
        {
          "output_type": "stream",
          "name": "stderr",
          "text": [
            "\n"
          ]
        },
        {
          "output_type": "stream",
          "name": "stdout",
          "text": [
            "\n",
            "      Epoch    GPU_mem   box_loss   cls_loss   dfl_loss  Instances       Size\n"
          ]
        },
        {
          "output_type": "stream",
          "name": "stderr",
          "text": [
            "  0%|          | 0/464 [00:00<?, ?it/s]/usr/local/lib/python3.12/dist-packages/ultralytics/utils/loss.py:202: UserWarning: Deterministic behavior was enabled with either `torch.use_deterministic_algorithms(True)` or `at::Context::setDeterministicAlgorithms(true)`, but this operation is not deterministic because it uses CuBLAS and you have CUDA >= 10.2. To enable deterministic behavior in this case, you must set an environment variable before running your PyTorch application: CUBLAS_WORKSPACE_CONFIG=:4096:8 or CUBLAS_WORKSPACE_CONFIG=:16:8. For more information, go to https://docs.nvidia.com/cuda/cublas/index.html#results-reproducibility (Triggered internally at /pytorch/aten/src/ATen/Context.cpp:233.)\n",
            "  pred_dist = pred_dist.view(b, a, 4, c // 4).softmax(3).matmul(self.proj.type(pred_dist.dtype))\n",
            "       6/25      1.68G      1.593      1.109        1.3         23        640: 100%|██████████| 464/464 [00:37<00:00, 12.48it/s]\n",
            "                 Class     Images  Instances      Box(P          R      mAP50  mAP50-95): 100%|██████████| 13/13 [00:00<00:00, 14.29it/s]"
          ]
        },
        {
          "output_type": "stream",
          "name": "stdout",
          "text": [
            "                   all         99        304      0.502      0.377      0.383      0.225\n"
          ]
        },
        {
          "output_type": "stream",
          "name": "stderr",
          "text": [
            "\n"
          ]
        },
        {
          "output_type": "stream",
          "name": "stdout",
          "text": [
            "\n",
            "      Epoch    GPU_mem   box_loss   cls_loss   dfl_loss  Instances       Size\n"
          ]
        },
        {
          "output_type": "stream",
          "name": "stderr",
          "text": [
            "  0%|          | 0/464 [00:00<?, ?it/s]/usr/local/lib/python3.12/dist-packages/ultralytics/utils/loss.py:202: UserWarning: Deterministic behavior was enabled with either `torch.use_deterministic_algorithms(True)` or `at::Context::setDeterministicAlgorithms(true)`, but this operation is not deterministic because it uses CuBLAS and you have CUDA >= 10.2. To enable deterministic behavior in this case, you must set an environment variable before running your PyTorch application: CUBLAS_WORKSPACE_CONFIG=:4096:8 or CUBLAS_WORKSPACE_CONFIG=:16:8. For more information, go to https://docs.nvidia.com/cuda/cublas/index.html#results-reproducibility (Triggered internally at /pytorch/aten/src/ATen/Context.cpp:233.)\n",
            "  pred_dist = pred_dist.view(b, a, 4, c // 4).softmax(3).matmul(self.proj.type(pred_dist.dtype))\n",
            "       7/25      1.67G      1.559      1.059      1.282          8        640: 100%|██████████| 464/464 [00:37<00:00, 12.45it/s]\n",
            "                 Class     Images  Instances      Box(P          R      mAP50  mAP50-95): 100%|██████████| 13/13 [00:00<00:00, 14.29it/s]"
          ]
        },
        {
          "output_type": "stream",
          "name": "stdout",
          "text": [
            "                   all         99        304      0.629      0.266      0.396      0.219\n"
          ]
        },
        {
          "output_type": "stream",
          "name": "stderr",
          "text": [
            "\n"
          ]
        },
        {
          "output_type": "stream",
          "name": "stdout",
          "text": [
            "\n",
            "      Epoch    GPU_mem   box_loss   cls_loss   dfl_loss  Instances       Size\n"
          ]
        },
        {
          "output_type": "stream",
          "name": "stderr",
          "text": [
            "  0%|          | 0/464 [00:00<?, ?it/s]/usr/local/lib/python3.12/dist-packages/ultralytics/utils/loss.py:202: UserWarning: Deterministic behavior was enabled with either `torch.use_deterministic_algorithms(True)` or `at::Context::setDeterministicAlgorithms(true)`, but this operation is not deterministic because it uses CuBLAS and you have CUDA >= 10.2. To enable deterministic behavior in this case, you must set an environment variable before running your PyTorch application: CUBLAS_WORKSPACE_CONFIG=:4096:8 or CUBLAS_WORKSPACE_CONFIG=:16:8. For more information, go to https://docs.nvidia.com/cuda/cublas/index.html#results-reproducibility (Triggered internally at /pytorch/aten/src/ATen/Context.cpp:233.)\n",
            "  pred_dist = pred_dist.view(b, a, 4, c // 4).softmax(3).matmul(self.proj.type(pred_dist.dtype))\n",
            "       8/25      1.69G      1.527       1.02       1.27         10        640: 100%|██████████| 464/464 [00:37<00:00, 12.46it/s]\n",
            "                 Class     Images  Instances      Box(P          R      mAP50  mAP50-95): 100%|██████████| 13/13 [00:00<00:00, 14.63it/s]"
          ]
        },
        {
          "output_type": "stream",
          "name": "stdout",
          "text": [
            "                   all         99        304      0.506      0.481      0.339      0.189\n"
          ]
        },
        {
          "output_type": "stream",
          "name": "stderr",
          "text": [
            "\n"
          ]
        },
        {
          "output_type": "stream",
          "name": "stdout",
          "text": [
            "\n",
            "      Epoch    GPU_mem   box_loss   cls_loss   dfl_loss  Instances       Size\n"
          ]
        },
        {
          "output_type": "stream",
          "name": "stderr",
          "text": [
            "  0%|          | 0/464 [00:00<?, ?it/s]/usr/local/lib/python3.12/dist-packages/ultralytics/utils/loss.py:202: UserWarning: Deterministic behavior was enabled with either `torch.use_deterministic_algorithms(True)` or `at::Context::setDeterministicAlgorithms(true)`, but this operation is not deterministic because it uses CuBLAS and you have CUDA >= 10.2. To enable deterministic behavior in this case, you must set an environment variable before running your PyTorch application: CUBLAS_WORKSPACE_CONFIG=:4096:8 or CUBLAS_WORKSPACE_CONFIG=:16:8. For more information, go to https://docs.nvidia.com/cuda/cublas/index.html#results-reproducibility (Triggered internally at /pytorch/aten/src/ATen/Context.cpp:233.)\n",
            "  pred_dist = pred_dist.view(b, a, 4, c // 4).softmax(3).matmul(self.proj.type(pred_dist.dtype))\n",
            "       9/25      1.67G      1.535     0.9854      1.262         14        640: 100%|██████████| 464/464 [00:37<00:00, 12.47it/s]\n",
            "                 Class     Images  Instances      Box(P          R      mAP50  mAP50-95): 100%|██████████| 13/13 [00:00<00:00, 14.37it/s]"
          ]
        },
        {
          "output_type": "stream",
          "name": "stdout",
          "text": [
            "                   all         99        304      0.715      0.308      0.397      0.248\n"
          ]
        },
        {
          "output_type": "stream",
          "name": "stderr",
          "text": [
            "\n"
          ]
        },
        {
          "output_type": "stream",
          "name": "stdout",
          "text": [
            "\n",
            "      Epoch    GPU_mem   box_loss   cls_loss   dfl_loss  Instances       Size\n"
          ]
        },
        {
          "output_type": "stream",
          "name": "stderr",
          "text": [
            "  0%|          | 0/464 [00:00<?, ?it/s]/usr/local/lib/python3.12/dist-packages/ultralytics/utils/loss.py:202: UserWarning: Deterministic behavior was enabled with either `torch.use_deterministic_algorithms(True)` or `at::Context::setDeterministicAlgorithms(true)`, but this operation is not deterministic because it uses CuBLAS and you have CUDA >= 10.2. To enable deterministic behavior in this case, you must set an environment variable before running your PyTorch application: CUBLAS_WORKSPACE_CONFIG=:4096:8 or CUBLAS_WORKSPACE_CONFIG=:16:8. For more information, go to https://docs.nvidia.com/cuda/cublas/index.html#results-reproducibility (Triggered internally at /pytorch/aten/src/ATen/Context.cpp:233.)\n",
            "  pred_dist = pred_dist.view(b, a, 4, c // 4).softmax(3).matmul(self.proj.type(pred_dist.dtype))\n",
            "      10/25      1.65G       1.51     0.9734      1.244         36        640: 100%|██████████| 464/464 [00:37<00:00, 12.45it/s]\n",
            "                 Class     Images  Instances      Box(P          R      mAP50  mAP50-95): 100%|██████████| 13/13 [00:00<00:00, 14.41it/s]"
          ]
        },
        {
          "output_type": "stream",
          "name": "stdout",
          "text": [
            "                   all         99        304      0.845      0.321      0.436      0.274\n"
          ]
        },
        {
          "output_type": "stream",
          "name": "stderr",
          "text": [
            "\n"
          ]
        },
        {
          "output_type": "stream",
          "name": "stdout",
          "text": [
            "\n",
            "      Epoch    GPU_mem   box_loss   cls_loss   dfl_loss  Instances       Size\n"
          ]
        },
        {
          "output_type": "stream",
          "name": "stderr",
          "text": [
            "  0%|          | 0/464 [00:00<?, ?it/s]/usr/local/lib/python3.12/dist-packages/ultralytics/utils/loss.py:202: UserWarning: Deterministic behavior was enabled with either `torch.use_deterministic_algorithms(True)` or `at::Context::setDeterministicAlgorithms(true)`, but this operation is not deterministic because it uses CuBLAS and you have CUDA >= 10.2. To enable deterministic behavior in this case, you must set an environment variable before running your PyTorch application: CUBLAS_WORKSPACE_CONFIG=:4096:8 or CUBLAS_WORKSPACE_CONFIG=:16:8. For more information, go to https://docs.nvidia.com/cuda/cublas/index.html#results-reproducibility (Triggered internally at /pytorch/aten/src/ATen/Context.cpp:233.)\n",
            "  pred_dist = pred_dist.view(b, a, 4, c // 4).softmax(3).matmul(self.proj.type(pred_dist.dtype))\n",
            "      11/25      1.67G      1.497     0.9611       1.24         16        640: 100%|██████████| 464/464 [00:37<00:00, 12.44it/s]\n",
            "                 Class     Images  Instances      Box(P          R      mAP50  mAP50-95): 100%|██████████| 13/13 [00:00<00:00, 14.32it/s]"
          ]
        },
        {
          "output_type": "stream",
          "name": "stdout",
          "text": [
            "                   all         99        304      0.536       0.46       0.45      0.276\n"
          ]
        },
        {
          "output_type": "stream",
          "name": "stderr",
          "text": [
            "\n"
          ]
        },
        {
          "output_type": "stream",
          "name": "stdout",
          "text": [
            "\n",
            "      Epoch    GPU_mem   box_loss   cls_loss   dfl_loss  Instances       Size\n"
          ]
        },
        {
          "output_type": "stream",
          "name": "stderr",
          "text": [
            "  0%|          | 0/464 [00:00<?, ?it/s]/usr/local/lib/python3.12/dist-packages/ultralytics/utils/loss.py:202: UserWarning: Deterministic behavior was enabled with either `torch.use_deterministic_algorithms(True)` or `at::Context::setDeterministicAlgorithms(true)`, but this operation is not deterministic because it uses CuBLAS and you have CUDA >= 10.2. To enable deterministic behavior in this case, you must set an environment variable before running your PyTorch application: CUBLAS_WORKSPACE_CONFIG=:4096:8 or CUBLAS_WORKSPACE_CONFIG=:16:8. For more information, go to https://docs.nvidia.com/cuda/cublas/index.html#results-reproducibility (Triggered internally at /pytorch/aten/src/ATen/Context.cpp:233.)\n",
            "  pred_dist = pred_dist.view(b, a, 4, c // 4).softmax(3).matmul(self.proj.type(pred_dist.dtype))\n",
            "      12/25      1.65G       1.46     0.9151       1.23         22        640: 100%|██████████| 464/464 [00:37<00:00, 12.50it/s]\n",
            "                 Class     Images  Instances      Box(P          R      mAP50  mAP50-95): 100%|██████████| 13/13 [00:00<00:00, 14.43it/s]"
          ]
        },
        {
          "output_type": "stream",
          "name": "stdout",
          "text": [
            "                   all         99        304      0.521       0.42      0.379       0.23\n"
          ]
        },
        {
          "output_type": "stream",
          "name": "stderr",
          "text": [
            "\n"
          ]
        },
        {
          "output_type": "stream",
          "name": "stdout",
          "text": [
            "\n",
            "      Epoch    GPU_mem   box_loss   cls_loss   dfl_loss  Instances       Size\n"
          ]
        },
        {
          "output_type": "stream",
          "name": "stderr",
          "text": [
            "  0%|          | 0/464 [00:00<?, ?it/s]/usr/local/lib/python3.12/dist-packages/ultralytics/utils/loss.py:202: UserWarning: Deterministic behavior was enabled with either `torch.use_deterministic_algorithms(True)` or `at::Context::setDeterministicAlgorithms(true)`, but this operation is not deterministic because it uses CuBLAS and you have CUDA >= 10.2. To enable deterministic behavior in this case, you must set an environment variable before running your PyTorch application: CUBLAS_WORKSPACE_CONFIG=:4096:8 or CUBLAS_WORKSPACE_CONFIG=:16:8. For more information, go to https://docs.nvidia.com/cuda/cublas/index.html#results-reproducibility (Triggered internally at /pytorch/aten/src/ATen/Context.cpp:233.)\n",
            "  pred_dist = pred_dist.view(b, a, 4, c // 4).softmax(3).matmul(self.proj.type(pred_dist.dtype))\n",
            "      13/25      1.67G      1.475     0.9057      1.242          6        640: 100%|██████████| 464/464 [00:37<00:00, 12.47it/s]\n",
            "                 Class     Images  Instances      Box(P          R      mAP50  mAP50-95): 100%|██████████| 13/13 [00:00<00:00, 14.66it/s]"
          ]
        },
        {
          "output_type": "stream",
          "name": "stdout",
          "text": [
            "                   all         99        304      0.729      0.317      0.489      0.276\n"
          ]
        },
        {
          "output_type": "stream",
          "name": "stderr",
          "text": [
            "\n"
          ]
        },
        {
          "output_type": "stream",
          "name": "stdout",
          "text": [
            "\n",
            "      Epoch    GPU_mem   box_loss   cls_loss   dfl_loss  Instances       Size\n"
          ]
        },
        {
          "output_type": "stream",
          "name": "stderr",
          "text": [
            "  0%|          | 0/464 [00:00<?, ?it/s]/usr/local/lib/python3.12/dist-packages/ultralytics/utils/loss.py:202: UserWarning: Deterministic behavior was enabled with either `torch.use_deterministic_algorithms(True)` or `at::Context::setDeterministicAlgorithms(true)`, but this operation is not deterministic because it uses CuBLAS and you have CUDA >= 10.2. To enable deterministic behavior in this case, you must set an environment variable before running your PyTorch application: CUBLAS_WORKSPACE_CONFIG=:4096:8 or CUBLAS_WORKSPACE_CONFIG=:16:8. For more information, go to https://docs.nvidia.com/cuda/cublas/index.html#results-reproducibility (Triggered internally at /pytorch/aten/src/ATen/Context.cpp:233.)\n",
            "  pred_dist = pred_dist.view(b, a, 4, c // 4).softmax(3).matmul(self.proj.type(pred_dist.dtype))\n",
            "      14/25       1.7G       1.46     0.8829      1.226         25        640: 100%|██████████| 464/464 [00:37<00:00, 12.51it/s]\n",
            "                 Class     Images  Instances      Box(P          R      mAP50  mAP50-95): 100%|██████████| 13/13 [00:00<00:00, 14.08it/s]\n"
          ]
        },
        {
          "output_type": "stream",
          "name": "stdout",
          "text": [
            "                   all         99        304       0.77      0.319       0.48       0.29\n",
            "\n",
            "      Epoch    GPU_mem   box_loss   cls_loss   dfl_loss  Instances       Size\n"
          ]
        },
        {
          "output_type": "stream",
          "name": "stderr",
          "text": [
            "  0%|          | 0/464 [00:00<?, ?it/s]/usr/local/lib/python3.12/dist-packages/ultralytics/utils/loss.py:202: UserWarning: Deterministic behavior was enabled with either `torch.use_deterministic_algorithms(True)` or `at::Context::setDeterministicAlgorithms(true)`, but this operation is not deterministic because it uses CuBLAS and you have CUDA >= 10.2. To enable deterministic behavior in this case, you must set an environment variable before running your PyTorch application: CUBLAS_WORKSPACE_CONFIG=:4096:8 or CUBLAS_WORKSPACE_CONFIG=:16:8. For more information, go to https://docs.nvidia.com/cuda/cublas/index.html#results-reproducibility (Triggered internally at /pytorch/aten/src/ATen/Context.cpp:233.)\n",
            "  pred_dist = pred_dist.view(b, a, 4, c // 4).softmax(3).matmul(self.proj.type(pred_dist.dtype))\n",
            "      15/25      1.68G      1.427     0.8563      1.215         11        640: 100%|██████████| 464/464 [00:37<00:00, 12.49it/s]\n",
            "                 Class     Images  Instances      Box(P          R      mAP50  mAP50-95): 100%|██████████| 13/13 [00:00<00:00, 14.20it/s]"
          ]
        },
        {
          "output_type": "stream",
          "name": "stdout",
          "text": [
            "                   all         99        304      0.581      0.494      0.497      0.306\n"
          ]
        },
        {
          "output_type": "stream",
          "name": "stderr",
          "text": [
            "\n"
          ]
        },
        {
          "output_type": "stream",
          "name": "stdout",
          "text": [
            "Closing dataloader mosaic\n",
            "\u001b[34m\u001b[1malbumentations: \u001b[0mBlur(p=0.01, blur_limit=(3, 7)), MedianBlur(p=0.01, blur_limit=(3, 7)), ToGray(p=0.01, method='weighted_average', num_output_channels=3), CLAHE(p=0.01, clip_limit=(1.0, 4.0), tile_grid_size=(8, 8))\n"
          ]
        },
        {
          "output_type": "stream",
          "name": "stderr",
          "text": [
            "/usr/local/lib/python3.12/dist-packages/ultralytics/data/augment.py:1850: UserWarning: Argument(s) 'quality_lower' are not valid for transform ImageCompression\n",
            "  A.ImageCompression(quality_lower=75, p=0.0),\n"
          ]
        },
        {
          "output_type": "stream",
          "name": "stdout",
          "text": [
            "\n",
            "      Epoch    GPU_mem   box_loss   cls_loss   dfl_loss  Instances       Size\n"
          ]
        },
        {
          "output_type": "stream",
          "name": "stderr",
          "text": [
            "  0%|          | 0/464 [00:00<?, ?it/s]/usr/local/lib/python3.12/dist-packages/ultralytics/utils/loss.py:202: UserWarning: Deterministic behavior was enabled with either `torch.use_deterministic_algorithms(True)` or `at::Context::setDeterministicAlgorithms(true)`, but this operation is not deterministic because it uses CuBLAS and you have CUDA >= 10.2. To enable deterministic behavior in this case, you must set an environment variable before running your PyTorch application: CUBLAS_WORKSPACE_CONFIG=:4096:8 or CUBLAS_WORKSPACE_CONFIG=:16:8. For more information, go to https://docs.nvidia.com/cuda/cublas/index.html#results-reproducibility (Triggered internally at /pytorch/aten/src/ATen/Context.cpp:233.)\n",
            "  pred_dist = pred_dist.view(b, a, 4, c // 4).softmax(3).matmul(self.proj.type(pred_dist.dtype))\n",
            "      16/25      1.69G      1.398     0.8154      1.214          3        640: 100%|██████████| 464/464 [00:37<00:00, 12.37it/s]\n",
            "                 Class     Images  Instances      Box(P          R      mAP50  mAP50-95): 100%|██████████| 13/13 [00:00<00:00, 14.88it/s]"
          ]
        },
        {
          "output_type": "stream",
          "name": "stdout",
          "text": [
            "                   all         99        304      0.601      0.361      0.366      0.212\n"
          ]
        },
        {
          "output_type": "stream",
          "name": "stderr",
          "text": [
            "\n"
          ]
        },
        {
          "output_type": "stream",
          "name": "stdout",
          "text": [
            "\n",
            "      Epoch    GPU_mem   box_loss   cls_loss   dfl_loss  Instances       Size\n"
          ]
        },
        {
          "output_type": "stream",
          "name": "stderr",
          "text": [
            "  0%|          | 0/464 [00:00<?, ?it/s]/usr/local/lib/python3.12/dist-packages/ultralytics/utils/loss.py:202: UserWarning: Deterministic behavior was enabled with either `torch.use_deterministic_algorithms(True)` or `at::Context::setDeterministicAlgorithms(true)`, but this operation is not deterministic because it uses CuBLAS and you have CUDA >= 10.2. To enable deterministic behavior in this case, you must set an environment variable before running your PyTorch application: CUBLAS_WORKSPACE_CONFIG=:4096:8 or CUBLAS_WORKSPACE_CONFIG=:16:8. For more information, go to https://docs.nvidia.com/cuda/cublas/index.html#results-reproducibility (Triggered internally at /pytorch/aten/src/ATen/Context.cpp:233.)\n",
            "  pred_dist = pred_dist.view(b, a, 4, c // 4).softmax(3).matmul(self.proj.type(pred_dist.dtype))\n",
            "      17/25      1.68G      1.376     0.7773      1.194          3        640: 100%|██████████| 464/464 [00:37<00:00, 12.52it/s]\n",
            "                 Class     Images  Instances      Box(P          R      mAP50  mAP50-95): 100%|██████████| 13/13 [00:00<00:00, 14.70it/s]"
          ]
        },
        {
          "output_type": "stream",
          "name": "stdout",
          "text": [
            "                   all         99        304      0.693      0.363      0.494      0.284\n"
          ]
        },
        {
          "output_type": "stream",
          "name": "stderr",
          "text": [
            "\n"
          ]
        },
        {
          "output_type": "stream",
          "name": "stdout",
          "text": [
            "\n",
            "      Epoch    GPU_mem   box_loss   cls_loss   dfl_loss  Instances       Size\n"
          ]
        },
        {
          "output_type": "stream",
          "name": "stderr",
          "text": [
            "  0%|          | 0/464 [00:00<?, ?it/s]/usr/local/lib/python3.12/dist-packages/ultralytics/utils/loss.py:202: UserWarning: Deterministic behavior was enabled with either `torch.use_deterministic_algorithms(True)` or `at::Context::setDeterministicAlgorithms(true)`, but this operation is not deterministic because it uses CuBLAS and you have CUDA >= 10.2. To enable deterministic behavior in this case, you must set an environment variable before running your PyTorch application: CUBLAS_WORKSPACE_CONFIG=:4096:8 or CUBLAS_WORKSPACE_CONFIG=:16:8. For more information, go to https://docs.nvidia.com/cuda/cublas/index.html#results-reproducibility (Triggered internally at /pytorch/aten/src/ATen/Context.cpp:233.)\n",
            "  pred_dist = pred_dist.view(b, a, 4, c // 4).softmax(3).matmul(self.proj.type(pred_dist.dtype))\n",
            "      18/25      1.69G      1.369     0.7559      1.196          2        640: 100%|██████████| 464/464 [00:37<00:00, 12.53it/s]\n",
            "                 Class     Images  Instances      Box(P          R      mAP50  mAP50-95): 100%|██████████| 13/13 [00:00<00:00, 14.71it/s]"
          ]
        },
        {
          "output_type": "stream",
          "name": "stdout",
          "text": [
            "                   all         99        304      0.738      0.464      0.541      0.339\n"
          ]
        },
        {
          "output_type": "stream",
          "name": "stderr",
          "text": [
            "\n"
          ]
        },
        {
          "output_type": "stream",
          "name": "stdout",
          "text": [
            "\n",
            "      Epoch    GPU_mem   box_loss   cls_loss   dfl_loss  Instances       Size\n"
          ]
        },
        {
          "output_type": "stream",
          "name": "stderr",
          "text": [
            "  0%|          | 0/464 [00:00<?, ?it/s]/usr/local/lib/python3.12/dist-packages/ultralytics/utils/loss.py:202: UserWarning: Deterministic behavior was enabled with either `torch.use_deterministic_algorithms(True)` or `at::Context::setDeterministicAlgorithms(true)`, but this operation is not deterministic because it uses CuBLAS and you have CUDA >= 10.2. To enable deterministic behavior in this case, you must set an environment variable before running your PyTorch application: CUBLAS_WORKSPACE_CONFIG=:4096:8 or CUBLAS_WORKSPACE_CONFIG=:16:8. For more information, go to https://docs.nvidia.com/cuda/cublas/index.html#results-reproducibility (Triggered internally at /pytorch/aten/src/ATen/Context.cpp:233.)\n",
            "  pred_dist = pred_dist.view(b, a, 4, c // 4).softmax(3).matmul(self.proj.type(pred_dist.dtype))\n",
            "      19/25      1.66G      1.328     0.7263      1.186          4        640: 100%|██████████| 464/464 [00:37<00:00, 12.51it/s]\n",
            "                 Class     Images  Instances      Box(P          R      mAP50  mAP50-95): 100%|██████████| 13/13 [00:00<00:00, 14.72it/s]"
          ]
        },
        {
          "output_type": "stream",
          "name": "stdout",
          "text": [
            "                   all         99        304      0.703      0.476      0.548      0.338\n"
          ]
        },
        {
          "output_type": "stream",
          "name": "stderr",
          "text": [
            "\n"
          ]
        },
        {
          "output_type": "stream",
          "name": "stdout",
          "text": [
            "\n",
            "      Epoch    GPU_mem   box_loss   cls_loss   dfl_loss  Instances       Size\n"
          ]
        },
        {
          "output_type": "stream",
          "name": "stderr",
          "text": [
            "  0%|          | 0/464 [00:00<?, ?it/s]/usr/local/lib/python3.12/dist-packages/ultralytics/utils/loss.py:202: UserWarning: Deterministic behavior was enabled with either `torch.use_deterministic_algorithms(True)` or `at::Context::setDeterministicAlgorithms(true)`, but this operation is not deterministic because it uses CuBLAS and you have CUDA >= 10.2. To enable deterministic behavior in this case, you must set an environment variable before running your PyTorch application: CUBLAS_WORKSPACE_CONFIG=:4096:8 or CUBLAS_WORKSPACE_CONFIG=:16:8. For more information, go to https://docs.nvidia.com/cuda/cublas/index.html#results-reproducibility (Triggered internally at /pytorch/aten/src/ATen/Context.cpp:233.)\n",
            "  pred_dist = pred_dist.view(b, a, 4, c // 4).softmax(3).matmul(self.proj.type(pred_dist.dtype))\n",
            "      20/25      1.65G      1.334     0.7222      1.183          4        640: 100%|██████████| 464/464 [00:36<00:00, 12.58it/s]\n",
            "                 Class     Images  Instances      Box(P          R      mAP50  mAP50-95): 100%|██████████| 13/13 [00:00<00:00, 14.72it/s]"
          ]
        },
        {
          "output_type": "stream",
          "name": "stdout",
          "text": [
            "                   all         99        304      0.713       0.46      0.491       0.28\n"
          ]
        },
        {
          "output_type": "stream",
          "name": "stderr",
          "text": [
            "\n"
          ]
        },
        {
          "output_type": "stream",
          "name": "stdout",
          "text": [
            "\n",
            "      Epoch    GPU_mem   box_loss   cls_loss   dfl_loss  Instances       Size\n"
          ]
        },
        {
          "output_type": "stream",
          "name": "stderr",
          "text": [
            "  0%|          | 0/464 [00:00<?, ?it/s]/usr/local/lib/python3.12/dist-packages/ultralytics/utils/loss.py:202: UserWarning: Deterministic behavior was enabled with either `torch.use_deterministic_algorithms(True)` or `at::Context::setDeterministicAlgorithms(true)`, but this operation is not deterministic because it uses CuBLAS and you have CUDA >= 10.2. To enable deterministic behavior in this case, you must set an environment variable before running your PyTorch application: CUBLAS_WORKSPACE_CONFIG=:4096:8 or CUBLAS_WORKSPACE_CONFIG=:16:8. For more information, go to https://docs.nvidia.com/cuda/cublas/index.html#results-reproducibility (Triggered internally at /pytorch/aten/src/ATen/Context.cpp:233.)\n",
            "  pred_dist = pred_dist.view(b, a, 4, c // 4).softmax(3).matmul(self.proj.type(pred_dist.dtype))\n",
            "      21/25       1.7G       1.34     0.6989       1.18          9        640: 100%|██████████| 464/464 [00:36<00:00, 12.56it/s]\n",
            "                 Class     Images  Instances      Box(P          R      mAP50  mAP50-95): 100%|██████████| 13/13 [00:00<00:00, 14.33it/s]"
          ]
        },
        {
          "output_type": "stream",
          "name": "stdout",
          "text": [
            "                   all         99        304      0.628      0.537      0.502      0.311\n"
          ]
        },
        {
          "output_type": "stream",
          "name": "stderr",
          "text": [
            "\n"
          ]
        },
        {
          "output_type": "stream",
          "name": "stdout",
          "text": [
            "\n",
            "      Epoch    GPU_mem   box_loss   cls_loss   dfl_loss  Instances       Size\n"
          ]
        },
        {
          "output_type": "stream",
          "name": "stderr",
          "text": [
            "  0%|          | 0/464 [00:00<?, ?it/s]/usr/local/lib/python3.12/dist-packages/ultralytics/utils/loss.py:202: UserWarning: Deterministic behavior was enabled with either `torch.use_deterministic_algorithms(True)` or `at::Context::setDeterministicAlgorithms(true)`, but this operation is not deterministic because it uses CuBLAS and you have CUDA >= 10.2. To enable deterministic behavior in this case, you must set an environment variable before running your PyTorch application: CUBLAS_WORKSPACE_CONFIG=:4096:8 or CUBLAS_WORKSPACE_CONFIG=:16:8. For more information, go to https://docs.nvidia.com/cuda/cublas/index.html#results-reproducibility (Triggered internally at /pytorch/aten/src/ATen/Context.cpp:233.)\n",
            "  pred_dist = pred_dist.view(b, a, 4, c // 4).softmax(3).matmul(self.proj.type(pred_dist.dtype))\n",
            "      22/25      1.64G      1.316     0.6794      1.168          5        640: 100%|██████████| 464/464 [00:37<00:00, 12.52it/s]\n",
            "                 Class     Images  Instances      Box(P          R      mAP50  mAP50-95): 100%|██████████| 13/13 [00:00<00:00, 14.19it/s]"
          ]
        },
        {
          "output_type": "stream",
          "name": "stdout",
          "text": [
            "                   all         99        304      0.686      0.488      0.556      0.345\n"
          ]
        },
        {
          "output_type": "stream",
          "name": "stderr",
          "text": [
            "\n"
          ]
        },
        {
          "output_type": "stream",
          "name": "stdout",
          "text": [
            "\n",
            "      Epoch    GPU_mem   box_loss   cls_loss   dfl_loss  Instances       Size\n"
          ]
        },
        {
          "output_type": "stream",
          "name": "stderr",
          "text": [
            "  0%|          | 0/464 [00:00<?, ?it/s]/usr/local/lib/python3.12/dist-packages/ultralytics/utils/loss.py:202: UserWarning: Deterministic behavior was enabled with either `torch.use_deterministic_algorithms(True)` or `at::Context::setDeterministicAlgorithms(true)`, but this operation is not deterministic because it uses CuBLAS and you have CUDA >= 10.2. To enable deterministic behavior in this case, you must set an environment variable before running your PyTorch application: CUBLAS_WORKSPACE_CONFIG=:4096:8 or CUBLAS_WORKSPACE_CONFIG=:16:8. For more information, go to https://docs.nvidia.com/cuda/cublas/index.html#results-reproducibility (Triggered internally at /pytorch/aten/src/ATen/Context.cpp:233.)\n",
            "  pred_dist = pred_dist.view(b, a, 4, c // 4).softmax(3).matmul(self.proj.type(pred_dist.dtype))\n",
            "      23/25      1.67G      1.285     0.6721      1.157          7        640: 100%|██████████| 464/464 [00:37<00:00, 12.53it/s]\n",
            "                 Class     Images  Instances      Box(P          R      mAP50  mAP50-95): 100%|██████████| 13/13 [00:00<00:00, 14.85it/s]"
          ]
        },
        {
          "output_type": "stream",
          "name": "stdout",
          "text": [
            "                   all         99        304      0.487      0.617      0.529      0.334\n"
          ]
        },
        {
          "output_type": "stream",
          "name": "stderr",
          "text": [
            "\n"
          ]
        },
        {
          "output_type": "stream",
          "name": "stdout",
          "text": [
            "\n",
            "      Epoch    GPU_mem   box_loss   cls_loss   dfl_loss  Instances       Size\n"
          ]
        },
        {
          "output_type": "stream",
          "name": "stderr",
          "text": [
            "  0%|          | 0/464 [00:00<?, ?it/s]/usr/local/lib/python3.12/dist-packages/ultralytics/utils/loss.py:202: UserWarning: Deterministic behavior was enabled with either `torch.use_deterministic_algorithms(True)` or `at::Context::setDeterministicAlgorithms(true)`, but this operation is not deterministic because it uses CuBLAS and you have CUDA >= 10.2. To enable deterministic behavior in this case, you must set an environment variable before running your PyTorch application: CUBLAS_WORKSPACE_CONFIG=:4096:8 or CUBLAS_WORKSPACE_CONFIG=:16:8. For more information, go to https://docs.nvidia.com/cuda/cublas/index.html#results-reproducibility (Triggered internally at /pytorch/aten/src/ATen/Context.cpp:233.)\n",
            "  pred_dist = pred_dist.view(b, a, 4, c // 4).softmax(3).matmul(self.proj.type(pred_dist.dtype))\n",
            "      24/25      1.64G      1.264     0.6372       1.15          4        640: 100%|██████████| 464/464 [00:37<00:00, 12.51it/s]\n",
            "                 Class     Images  Instances      Box(P          R      mAP50  mAP50-95): 100%|██████████| 13/13 [00:00<00:00, 14.69it/s]"
          ]
        },
        {
          "output_type": "stream",
          "name": "stdout",
          "text": [
            "                   all         99        304       0.54      0.545      0.517      0.326\n"
          ]
        },
        {
          "output_type": "stream",
          "name": "stderr",
          "text": [
            "\n"
          ]
        },
        {
          "output_type": "stream",
          "name": "stdout",
          "text": [
            "\n",
            "      Epoch    GPU_mem   box_loss   cls_loss   dfl_loss  Instances       Size\n"
          ]
        },
        {
          "output_type": "stream",
          "name": "stderr",
          "text": [
            "  0%|          | 0/464 [00:00<?, ?it/s]/usr/local/lib/python3.12/dist-packages/ultralytics/utils/loss.py:202: UserWarning: Deterministic behavior was enabled with either `torch.use_deterministic_algorithms(True)` or `at::Context::setDeterministicAlgorithms(true)`, but this operation is not deterministic because it uses CuBLAS and you have CUDA >= 10.2. To enable deterministic behavior in this case, you must set an environment variable before running your PyTorch application: CUBLAS_WORKSPACE_CONFIG=:4096:8 or CUBLAS_WORKSPACE_CONFIG=:16:8. For more information, go to https://docs.nvidia.com/cuda/cublas/index.html#results-reproducibility (Triggered internally at /pytorch/aten/src/ATen/Context.cpp:233.)\n",
            "  pred_dist = pred_dist.view(b, a, 4, c // 4).softmax(3).matmul(self.proj.type(pred_dist.dtype))\n",
            "      25/25      1.67G      1.265     0.6329      1.146          5        640: 100%|██████████| 464/464 [00:37<00:00, 12.53it/s]\n",
            "                 Class     Images  Instances      Box(P          R      mAP50  mAP50-95): 100%|██████████| 13/13 [00:00<00:00, 14.36it/s]"
          ]
        },
        {
          "output_type": "stream",
          "name": "stdout",
          "text": [
            "                   all         99        304      0.831      0.439      0.553       0.35\n"
          ]
        },
        {
          "output_type": "stream",
          "name": "stderr",
          "text": [
            "\n"
          ]
        },
        {
          "output_type": "stream",
          "name": "stdout",
          "text": [
            "\n",
            "25 epochs completed in 0.272 hours.\n",
            "Optimizer stripped from runs/detect/train/weights/last.pt, 22.5MB\n",
            "Optimizer stripped from runs/detect/train/weights/best.pt, 22.5MB\n",
            "\n",
            "Validating runs/detect/train/weights/best.pt...\n",
            "Ultralytics 8.3.30 🚀 Python-3.12.11 torch-2.8.0+cu126 CUDA:0 (Tesla T4, 15095MiB)\n",
            "Model summary (fused): 168 layers, 11,129,454 parameters, 0 gradients, 28.5 GFLOPs\n"
          ]
        },
        {
          "output_type": "stream",
          "name": "stderr",
          "text": [
            "/usr/local/lib/python3.12/dist-packages/ultralytics/utils/torch_utils.py:262: UserWarning: Deterministic behavior was enabled with either `torch.use_deterministic_algorithms(True)` or `at::Context::setDeterministicAlgorithms(true)`, but this operation is not deterministic because it uses CuBLAS and you have CUDA >= 10.2. To enable deterministic behavior in this case, you must set an environment variable before running your PyTorch application: CUBLAS_WORKSPACE_CONFIG=:4096:8 or CUBLAS_WORKSPACE_CONFIG=:16:8. For more information, go to https://docs.nvidia.com/cuda/cublas/index.html#results-reproducibility (Triggered internally at /pytorch/aten/src/ATen/Context.cpp:233.)\n",
            "  fusedconv.weight.copy_(torch.mm(w_bn, w_conv).view(fusedconv.weight.shape))\n",
            "/usr/local/lib/python3.12/dist-packages/ultralytics/utils/torch_utils.py:267: UserWarning: Deterministic behavior was enabled with either `torch.use_deterministic_algorithms(True)` or `at::Context::setDeterministicAlgorithms(true)`, but this operation is not deterministic because it uses CuBLAS and you have CUDA >= 10.2. To enable deterministic behavior in this case, you must set an environment variable before running your PyTorch application: CUBLAS_WORKSPACE_CONFIG=:4096:8 or CUBLAS_WORKSPACE_CONFIG=:16:8. For more information, go to https://docs.nvidia.com/cuda/cublas/index.html#results-reproducibility (Triggered internally at /pytorch/aten/src/ATen/Context.cpp:233.)\n",
            "  fusedconv.bias.copy_(torch.mm(w_bn, b_conv.reshape(-1, 1)).reshape(-1) + b_bn)\n",
            "                 Class     Images  Instances      Box(P          R      mAP50  mAP50-95): 100%|██████████| 13/13 [00:01<00:00, 12.36it/s]\n"
          ]
        },
        {
          "output_type": "stream",
          "name": "stdout",
          "text": [
            "                   all         99        304      0.831      0.439      0.553       0.35\n",
            "           camping car          2          2      0.743        0.5      0.595      0.407\n",
            "                   car         99        282      0.929      0.876      0.949      0.564\n",
            "                 other          2          4          1          0      0.134     0.0804\n",
            "                pickup          6          7      0.584      0.429      0.388       0.26\n",
            "                 truck          3          4      0.732       0.25      0.566      0.289\n",
            "                   van          5          5          1       0.58      0.688      0.501\n",
            "Speed: 0.2ms preprocess, 4.3ms inference, 0.0ms loss, 1.3ms postprocess per image\n",
            "Results saved to \u001b[1mruns/detect/train\u001b[0m\n",
            "Ultralytics 8.3.30 🚀 Python-3.12.11 torch-2.8.0+cu126 CUDA:0 (Tesla T4, 15095MiB)\n",
            "Model summary (fused): 168 layers, 11,129,454 parameters, 0 gradients, 28.5 GFLOPs\n"
          ]
        },
        {
          "output_type": "stream",
          "name": "stderr",
          "text": [
            "/usr/local/lib/python3.12/dist-packages/ultralytics/utils/torch_utils.py:262: UserWarning: Deterministic behavior was enabled with either `torch.use_deterministic_algorithms(True)` or `at::Context::setDeterministicAlgorithms(true)`, but this operation is not deterministic because it uses CuBLAS and you have CUDA >= 10.2. To enable deterministic behavior in this case, you must set an environment variable before running your PyTorch application: CUBLAS_WORKSPACE_CONFIG=:4096:8 or CUBLAS_WORKSPACE_CONFIG=:16:8. For more information, go to https://docs.nvidia.com/cuda/cublas/index.html#results-reproducibility (Triggered internally at /pytorch/aten/src/ATen/Context.cpp:233.)\n",
            "  fusedconv.weight.copy_(torch.mm(w_bn, w_conv).view(fusedconv.weight.shape))\n",
            "/usr/local/lib/python3.12/dist-packages/ultralytics/utils/torch_utils.py:267: UserWarning: Deterministic behavior was enabled with either `torch.use_deterministic_algorithms(True)` or `at::Context::setDeterministicAlgorithms(true)`, but this operation is not deterministic because it uses CuBLAS and you have CUDA >= 10.2. To enable deterministic behavior in this case, you must set an environment variable before running your PyTorch application: CUBLAS_WORKSPACE_CONFIG=:4096:8 or CUBLAS_WORKSPACE_CONFIG=:16:8. For more information, go to https://docs.nvidia.com/cuda/cublas/index.html#results-reproducibility (Triggered internally at /pytorch/aten/src/ATen/Context.cpp:233.)\n",
            "  fusedconv.bias.copy_(torch.mm(w_bn, b_conv.reshape(-1, 1)).reshape(-1) + b_bn)\n",
            "\u001b[34m\u001b[1mval: \u001b[0mScanning /content/drive/MyDrive/LJMU/Data/yolo_dataset/test/labels... 105 images, 0 backgrounds, 0 corrupt: 100%|██████████| 105/105 [00:00<00:00, 248.34it/s]\n"
          ]
        },
        {
          "output_type": "stream",
          "name": "stdout",
          "text": [
            "\u001b[34m\u001b[1mval: \u001b[0mNew cache created: /content/drive/MyDrive/LJMU/Data/yolo_dataset/test/labels.cache\n"
          ]
        },
        {
          "output_type": "stream",
          "name": "stderr",
          "text": [
            "                 Class     Images  Instances      Box(P          R      mAP50  mAP50-95): 100%|██████████| 27/27 [00:01<00:00, 14.97it/s]\n"
          ]
        },
        {
          "output_type": "stream",
          "name": "stdout",
          "text": [
            "                   all        105        303      0.848      0.398       0.41      0.274\n",
            "                  boat          1          1          1          0          0          0\n",
            "           camping car          4          4      0.592        0.5      0.462      0.283\n",
            "                   car        105        278      0.904      0.917       0.96      0.579\n",
            "                 other          1          1          1          0          0          0\n",
            "                pickup         12         14      0.896      0.616      0.726      0.516\n",
            "                 truck          1          1          1          0          0          0\n",
            "                   van          3          4      0.547       0.75      0.723       0.54\n",
            "Speed: 0.4ms preprocess, 11.4ms inference, 0.0ms loss, 1.1ms postprocess per image\n",
            "Results saved to \u001b[1mruns/detect/train2\u001b[0m\n",
            "[YOLOv8s] test => mAP@0.5:0.95 = 0.274 | mAP@0.5 = 0.410\n"
          ]
        },
        {
          "output_type": "display_data",
          "data": {
            "text/plain": [
              "<Figure size 600x400 with 1 Axes>"
            ],
            "image/png": "[encoded data removed]"
          },
          "metadata": {}
        }
      ]
    },
    {
      "cell_type": "code",
      "source": [
        "!mkdir -p \"/content/drive/MyDrive/LJMU/runs\"\n",
        "!rsync -ah --progress /content/runs/ \"/content/drive/MyDrive/LJMU/runs/\""
      ],
      "metadata": {
        "colab": {
          "base_uri": "https://localhost:8080/"
        },
        "id": "WXAPtIqhRmY2",
        "outputId": "5588bd7a-518b-4010-8d45-c18751a8e1cc"
      },
      "execution_count": 2,
      "outputs": [
        {
          "output_type": "stream",
          "name": "stdout",
          "text": [
            "sending incremental file list\n",
            "./\n",
            "detect/\n",
            "detect/train/\n",
            "detect/train/F1_curve.png\n",
            "\r         32.77K  13%    0.00kB/s    0:00:00  \r        234.10K 100%   96.00MB/s    0:00:00 (xfr#1, to-chk=38/43)\n",
            "detect/train/PR_curve.png\n",
            "\r         32.77K  22%   15.62MB/s    0:00:00  \r        147.05K 100%   17.53MB/s    0:00:00 (xfr#2, to-chk=37/43)\n",
            "detect/train/P_curve.png\n",
            "\r         32.77K  13%    3.91MB/s    0:00:00  \r        251.84K 100%   17.16MB/s    0:00:00 (xfr#3, to-chk=36/43)\n",
            "detect/train/R_curve.png\n",
            "\r         32.77K  18%    2.23MB/s    0:00:00  \r        178.39K 100%    8.51MB/s    0:00:00 (xfr#4, to-chk=35/43)\n",
            "detect/train/args.yaml\n",
            "\r          1.59K 100%   77.44kB/s    0:00:00  \r          1.59K 100%   77.44kB/s    0:00:00 (xfr#5, to-chk=34/43)\n",
            "detect/train/confusion_matrix.png\n",
            "\r         32.77K  23%    1.56MB/s    0:00:00  \r        141.35K 100%    2.93MB/s    0:00:00 (xfr#6, to-chk=33/43)\n",
            "detect/train/confusion_matrix_normalized.png\n",
            "\r         32.77K  20%  695.65kB/s    0:00:00  \r        163.68K 100%    3.00MB/s    0:00:00 (xfr#7, to-chk=32/43)\n",
            "detect/train/events.out.tfevents.1755862236.b3fb988a8ebc.1653.0\n",
            "\r         32.77K  16%  603.77kB/s    0:00:00  \r        202.47K 100%    3.27MB/s    0:00:00 (xfr#8, to-chk=31/43)\n",
            "detect/train/labels.jpg\n",
            "\r         32.77K  20%  542.37kB/s    0:00:00  \r        158.36K 100%    2.29MB/s    0:00:00 (xfr#9, to-chk=30/43)\n",
            "detect/train/labels_correlogram.jpg\n",
            "\r         32.77K  16%  484.85kB/s    0:00:00  \r        198.41K 100%    2.63MB/s    0:00:00 (xfr#10, to-chk=29/43)\n",
            "detect/train/results.csv\n",
            "\r          3.33K 100%   45.13kB/s    0:00:00  \r          3.33K 100%   45.13kB/s    0:00:00 (xfr#11, to-chk=28/43)\n",
            "detect/train/results.png\n",
            "\r         32.77K  10%  444.44kB/s    0:00:00  \r        317.51K 100%    3.56MB/s    0:00:00 (xfr#12, to-chk=27/43)\n",
            "detect/train/train_batch0.jpg\n",
            "\r         32.77K  16%  376.47kB/s    0:00:00  \r        197.12K 100%    2.04MB/s    0:00:00 (xfr#13, to-chk=26/43)\n",
            "detect/train/train_batch1.jpg\n",
            "\r         32.77K  21%  347.83kB/s    0:00:00  \r        155.48K 100%    1.51MB/s    0:00:00 (xfr#14, to-chk=25/43)\n",
            "detect/train/train_batch2.jpg\n",
            "\r         32.77K  19%  326.53kB/s    0:00:00  \r        170.42K 100%    1.35MB/s    0:00:00 (xfr#15, to-chk=24/43)\n",
            "detect/train/train_batch6960.jpg\n",
            "\r         32.77K  22%  266.67kB/s    0:00:00  \r        142.56K 100%    1.05MB/s    0:00:00 (xfr#16, to-chk=23/43)\n",
            "detect/train/train_batch6961.jpg\n",
            "\r         32.77K  23%  248.06kB/s    0:00:00  \r        141.76K 100% 1003.14kB/s    0:00:00 (xfr#17, to-chk=22/43)\n",
            "detect/train/train_batch6962.jpg\n",
            "\r         32.77K  23%  231.88kB/s    0:00:00  \r        138.38K 100%  919.28kB/s    0:00:00 (xfr#18, to-chk=21/43)\n",
            "detect/train/val_batch0_labels.jpg\n",
            "\r         32.77K   8%  216.22kB/s    0:00:01  \r        389.14K 100%    2.35MB/s    0:00:00 (xfr#19, to-chk=20/43)\n",
            "detect/train/val_batch0_pred.jpg\n",
            "\r         32.77K   8%  202.53kB/s    0:00:01  \r        398.88K 100%    2.29MB/s    0:00:00 (xfr#20, to-chk=19/43)\n",
            "detect/train/val_batch1_labels.jpg\n",
            "        369.40K 100%    2.00MB/s    0:00:00 (xfr#21, to-chk=18/43)\n",
            "detect/train/val_batch1_pred.jpg\n",
            "        376.36K 100%    1.94MB/s    0:00:00 (xfr#22, to-chk=17/43)\n",
            "detect/train/val_batch2_labels.jpg\n",
            "        352.05K 100%    1.75MB/s    0:00:00 (xfr#23, to-chk=16/43)\n",
            "detect/train/val_batch2_pred.jpg\n",
            "        355.00K 100%    1.68MB/s    0:00:00 (xfr#24, to-chk=15/43)\n",
            "detect/train/weights/\n",
            "detect/train/weights/best.pt\n",
            "         22.52M 100%   73.30MB/s    0:00:00 (xfr#25, to-chk=13/43)\n",
            "detect/train/weights/last.pt\n",
            "         22.52M 100%   57.58MB/s    0:00:00 (xfr#26, to-chk=12/43)\n",
            "detect/train2/\n",
            "detect/train2/F1_curve.png\n",
            "        208.49K 100%  534.38kB/s    0:00:00 (xfr#27, to-chk=11/43)\n",
            "detect/train2/PR_curve.png\n",
            "        142.50K 100%  357.73kB/s    0:00:00 (xfr#28, to-chk=10/43)\n",
            "detect/train2/P_curve.png\n",
            "        204.45K 100%  502.91kB/s    0:00:00 (xfr#29, to-chk=9/43)\n",
            "detect/train2/R_curve.png\n",
            "        170.34K 100%  410.73kB/s    0:00:00 (xfr#30, to-chk=8/43)\n",
            "detect/train2/confusion_matrix.png\n",
            "        140.67K 100%  332.63kB/s    0:00:00 (xfr#31, to-chk=7/43)\n",
            "detect/train2/confusion_matrix_normalized.png\n",
            "        158.21K 100%  366.12kB/s    0:00:00 (xfr#32, to-chk=6/43)\n",
            "detect/train2/val_batch0_labels.jpg\n",
            "        163.13K 100%  371.35kB/s    0:00:00 (xfr#33, to-chk=5/43)\n",
            "detect/train2/val_batch0_pred.jpg\n",
            "        165.25K 100%  370.97kB/s    0:00:00 (xfr#34, to-chk=4/43)\n",
            "detect/train2/val_batch1_labels.jpg\n",
            "        174.62K 100%  372.32kB/s    0:00:00 (xfr#35, to-chk=3/43)\n",
            "detect/train2/val_batch1_pred.jpg\n",
            "        181.68K 100%  380.74kB/s    0:00:00 (xfr#36, to-chk=2/43)\n",
            "detect/train2/val_batch2_labels.jpg\n",
            "        188.00K 100%  388.15kB/s    0:00:00 (xfr#37, to-chk=1/43)\n",
            "detect/train2/val_batch2_pred.jpg\n",
            "        190.55K 100%  386.87kB/s    0:00:00 (xfr#38, to-chk=0/43)\n"
          ]
        }
      ]
    },
    {
      "cell_type": "code",
      "source": [],
      "metadata": {
        "id": "8F71bL7sofhn"
      },
      "execution_count": null,
      "outputs": []
    }
  ],
  "metadata": {
    "colab": {
      "provenance": [],
      "machine_shape": "hm",
      "gpuType": "T4"
    },
    "kernelspec": {
      "display_name": "Python 3",
      "name": "python3"
    },
    "language_info": {
      "name": "python"
    },
    "accelerator": "GPU"
  },
  "nbformat": 4,
  "nbformat_minor": 0
}